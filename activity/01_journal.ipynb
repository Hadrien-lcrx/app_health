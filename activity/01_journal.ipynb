{
 "cells": [
  {
   "cell_type": "markdown",
   "id": "a490416f-ce56-42da-986f-f5cde40facca",
   "metadata": {},
   "source": [
    "# JOURNAL"
   ]
  },
  {
   "cell_type": "code",
   "execution_count": 45,
   "id": "3c433d37-ac7b-4e3f-b1d7-ee5c053752a3",
   "metadata": {
    "jupyter": {
     "source_hidden": true
    }
   },
   "outputs": [],
   "source": [
    "import os\n",
    "import pandas as pd\n",
    "import plotly.express as px\n",
    "import plotly.graph_objects as go"
   ]
  },
  {
   "cell_type": "markdown",
   "id": "0c17baa1-cf49-4ca1-bf12-ab083540dff8",
   "metadata": {},
   "source": [
    "## Read data"
   ]
  },
  {
   "cell_type": "code",
   "execution_count": 46,
   "id": "14569f3c-6bfc-48a5-b7f8-e198bece1a74",
   "metadata": {
    "jupyter": {
     "source_hidden": true
    }
   },
   "outputs": [],
   "source": [
    "#df = pd.read_csv(\"data/raw_workouts/20220718.csv\", header=0)"
   ]
  },
  {
   "cell_type": "code",
   "execution_count": 47,
   "id": "f0a4cbac-d55f-4cc3-9bb0-be81b6e0a5c2",
   "metadata": {
    "jupyter": {
     "source_hidden": true
    }
   },
   "outputs": [],
   "source": [
    "df = pd.DataFrame(columns=['Date', 'Exercise', 'Tool',\n",
    "                           'Weight (kg)', 'Series','Reps', 'Rest',\n",
    "                           'Duration', 'Order', 'Notes'])"
   ]
  },
  {
   "cell_type": "code",
   "execution_count": 48,
   "id": "dee29f8c-a77f-4073-a71a-692b6be4d7a0",
   "metadata": {
    "jupyter": {
     "source_hidden": true
    },
    "tags": []
   },
   "outputs": [],
   "source": [
    "logs_path = f\"./data/raw/workouts/logs/\"\n",
    "for workout in os.listdir(logs_path):\n",
    "    workout_path = f\"{logs_path}{workout}\"\n",
    "    files_to_ignore = [\".DS_Store\", \".ipynb_checkpoints\"]\n",
    "    if any(file in workout_path for file in files_to_ignore):\n",
    "        continue\n",
    "    df_workout = pd.read_csv(workout_path, header=0)\n",
    "    df = pd.concat(objs=[df, df_workout])\n",
    "\n",
    "df = df.sort_values(by=[\"Date\", \"Order\"], ascending=[False, True])"
   ]
  },
  {
   "cell_type": "markdown",
   "id": "302dcdbf-cd58-4259-8248-0cc715d296df",
   "metadata": {},
   "source": [
    "## Table"
   ]
  },
  {
   "cell_type": "code",
   "execution_count": 49,
   "id": "794a4ea8-7694-4910-a6c5-88dd5fe2761b",
   "metadata": {
    "tags": []
   },
   "outputs": [],
   "source": [
    "custom_layout = {\"autosize\": True,\n",
    "                 #width=1000,\n",
    "                 #height=500,\n",
    "                 \"margin\": {\n",
    "                   \"l\": 0,\n",
    "                   \"r\": 0,\n",
    "                   \"b\": 0,\n",
    "                   \"t\": 0,\n",
    "                  }\n",
    "                  #paper_bgcolor=\"lightseagreen\",}\n",
    "                }"
   ]
  },
  {
   "cell_type": "code",
   "execution_count": 50,
   "id": "ec95d29c-d0d6-42c7-973e-bdaf72ea845c",
   "metadata": {
    "tags": []
   },
   "outputs": [
    {
     "data": {
      "application/vnd.plotly.v1+json": {
       "config": {
        "plotlyServerURL": "https://plot.ly"
       },
       "data": [
        {
         "cells": {
          "align": "left",
          "fill": {
           "color": "white"
          },
          "values": [
           [
            "2022-07-24",
            "2022-07-24",
            "2022-07-24",
            "2022-07-22",
            "2022-07-22",
            "2022-07-22",
            "2022-07-22",
            "2022-07-22",
            "2022-07-22",
            "2022-07-22",
            "2022-07-22",
            "2022-07-22",
            "2022-07-22",
            "2022-07-22",
            "2022-07-22",
            "2022-07-22",
            "2022-07-22",
            "2022-07-21",
            "2022-07-21",
            "2022-07-21",
            "2022-07-20",
            "2022-07-20",
            "2022-07-20",
            "2022-07-20",
            "2022-07-20",
            "2022-07-20",
            "2022-07-20",
            "2022-07-20",
            "2022-07-20",
            "2022-07-20",
            "2022-07-20",
            "2022-07-20",
            "2022-07-20",
            "2022-07-20",
            "2022-07-20",
            "2022-07-20",
            "2022-07-19",
            "2022-07-19",
            "2022-07-19",
            "2022-07-18",
            "2022-07-18",
            "2022-07-18",
            "2022-07-18",
            "2022-07-18",
            "2022-07-18",
            "2022-07-18",
            "2022-07-18",
            "2022-07-18",
            "2022-07-18",
            "2022-07-18",
            "2022-07-18",
            "2022-07-18",
            "2022-07-18",
            "2022-07-18",
            "2022-07-18",
            "2022-07-18",
            "2022-07-18"
           ],
           [
            "Standing 3x7",
            "Standing twisting curl - alternate",
            "Standing reverse curl - simultaneous",
            "Deadhang pull up - wide grip",
            "Deadhang pull up - wide grip",
            "Deadhang pull up - wide grip",
            "Deadhang pull up - wide grip",
            "Deadhang pull up - wide grip",
            "Lat pulldown",
            "Single arm row",
            "Seated row",
            "Standing twisting curl - simultaneous",
            "Bent-over row - undergrip",
            "Bent-over row - undergrip",
            "Standing 3x7",
            "Standing reverse curl - simultaneous",
            "Standing reverse curl - simultaneous",
            "Front raise",
            "Lateral raise",
            "Arnold press",
            "Deadhang pull up",
            "Deadhang pull up",
            "Deadhang pull up",
            "Deadhang pull up",
            "Chest press",
            "Push up",
            "Push up",
            "Push up",
            "Dip",
            "Dip",
            "Dip",
            "Dip",
            "Cable overhead extension (medium)",
            "Pullover",
            "Skullcrusher",
            "30m",
            "Overhead extension",
            "Bent-over row",
            "Kickbacks",
            "Front raise",
            "Squats",
            "Lateral raise",
            "Leg curl",
            "Upright rows",
            "Leg extension",
            "Arnold press",
            "Deadhang pull up",
            "Roman chair knee raise",
            "Deadhang pull up",
            "Roman chair knee raise",
            "Deadhang pull up",
            "Battle ropes - bilateral waves",
            "Battle ropes - unilateral waves",
            "Battle ropes - slamming waves",
            "Battle ropes - snake waves",
            "Battle ropes - inside waves",
            "3K"
           ],
           [
            "Dumbbells (2)",
            "Dumbbells (2)",
            "Dumbbells (2)",
            "Bodyweight",
            "Bodyweight",
            "Bodyweight",
            "Bodyweight",
            "Bodyweight",
            "Machine",
            "Dumbbell (1)",
            "Machine",
            "Dumbbells (2)",
            "Dumbbells (2)",
            "Dumbbells (2)",
            "Dumbbells (2)",
            "Dumbbells (2)",
            "Dumbbells (2)",
            "Dumbbells",
            "Dumbbells",
            "Dumbbells",
            "Bodyweight",
            "Bodyweight",
            "Bodyweight",
            "Bodyweight",
            "Dumbbells",
            "Bodyweight",
            "Bodyweight",
            "Bodyweight",
            "Bodyweight",
            "Bodyweight",
            "Bodyweight",
            "Bodyweight",
            "Cable rope",
            "Dumbbell",
            "Kettlebell (1)",
            "None",
            "Dumbbell",
            "Dumbbells",
            "Dumbbells",
            "Sandbag",
            "Sandbag",
            "Kettlebells (2)",
            "Machine",
            "Kettlebells (2)",
            "Machine",
            "Dumbbells (2)",
            "None",
            "Dumbbell (1)",
            "None",
            "Dumbbell (1)",
            "None",
            "Battle ropes (2)",
            "Battle ropes (2)",
            "Battle ropes (2)",
            "Battle ropes (2)",
            "Battle ropes (2)",
            "None"
           ],
           [
            7,
            14,
            7,
            0,
            0,
            0,
            0,
            0,
            40,
            12.5,
            38.5,
            10,
            5,
            7.5,
            7.5,
            7.5,
            5,
            7,
            7,
            7,
            0,
            0,
            0,
            0,
            15,
            0,
            0,
            0,
            0,
            0,
            0,
            0,
            15,
            12.5,
            8,
            0,
            14,
            7,
            4,
            15,
            15,
            6,
            40,
            8,
            40,
            7.5,
            0,
            5,
            0,
            5,
            0,
            null,
            null,
            null,
            null,
            null,
            0
           ],
           [
            3,
            3,
            3,
            1,
            1,
            1,
            2,
            2,
            3,
            3,
            3,
            3,
            1,
            2,
            3,
            1,
            2,
            3,
            3,
            3,
            1,
            1,
            2,
            1,
            3,
            2,
            2,
            1,
            1,
            1,
            2,
            1,
            3,
            3,
            3,
            30,
            3,
            3,
            3,
            3,
            3,
            3,
            3,
            3,
            3,
            3,
            2,
            2,
            1,
            1,
            1,
            3,
            3,
            3,
            3,
            1,
            1
           ],
           [
            12,
            12,
            12,
            4,
            5,
            4,
            3,
            2,
            12,
            12,
            12,
            12,
            12,
            12,
            21,
            12,
            12,
            12,
            12,
            12,
            3,
            5,
            3,
            5,
            12,
            12,
            7,
            12,
            3,
            4,
            3,
            6,
            12,
            12,
            12,
            0,
            12,
            12,
            12,
            12,
            12,
            12,
            12,
            12,
            12,
            12,
            3,
            12,
            4,
            12,
            3,
            12,
            12,
            12,
            12,
            1,
            1
           ],
           [
            45,
            45,
            45,
            2,
            2,
            2,
            2,
            2,
            45,
            45,
            45,
            45,
            45,
            45,
            45,
            45,
            45,
            "1:30",
            "1:30",
            "1:30",
            "2:00",
            "2:00",
            "2:00",
            "2:00",
            "0:45",
            "1:00",
            "1:00",
            "1:00",
            "1:00",
            "1:00",
            "1:00",
            "1:00",
            "0:45",
            "0:45",
            "0:45",
            "0:30",
            "0:45",
            "0:45",
            "0:45",
            "0:45",
            "0:45",
            "0:45",
            "0:45",
            "0:45",
            "0:45",
            "0:45",
            "2:00",
            "2:00",
            "2:00",
            "2:00",
            "2:00",
            "0:30",
            "0:30",
            "0:30",
            "0:30",
            "0:30",
            "0:00"
           ],
           [
            0,
            0,
            0,
            0,
            0,
            0,
            0,
            0,
            0,
            0,
            0,
            0,
            0,
            0,
            0,
            0,
            0,
            "0:00",
            "0:00",
            "0:00",
            "0:00",
            "0:00",
            "0:00",
            "0:00",
            "0:00",
            "0:00",
            "0:00",
            "0:00",
            "0:00",
            "0:00",
            "0:00",
            "0:00",
            "0:00",
            "0:00",
            "0:00",
            "0:30",
            0,
            0,
            0,
            "0",
            "0",
            "0",
            "0",
            "0",
            "0",
            "0",
            "0",
            "0",
            "0",
            "0",
            "0",
            "0",
            "0",
            "0",
            "0",
            "0",
            "13:00"
           ],
           [
            1,
            2,
            3,
            1,
            2,
            3,
            4,
            5,
            6,
            7,
            8,
            9,
            10,
            11,
            12,
            13,
            14,
            1,
            2,
            3,
            1,
            2,
            3,
            4,
            5,
            6,
            7,
            8,
            9,
            10,
            11,
            12,
            13,
            14,
            15,
            16,
            1,
            2,
            3,
            1,
            2,
            3,
            4,
            5,
            6,
            7,
            8,
            9,
            10,
            11,
            12,
            13,
            14,
            15,
            16,
            17,
            18
           ],
           [
            "Triset with standing twisting curl - alternate and standing reverse curl - simultaneous",
            "Triset with standing 3x7 and standing reverse curl - simultaneous\nCheated",
            "Triset with standing 3x7 and standing twisting curl - alternate",
            "Pull up program - W3D6. Did not pass.",
            "Pull up program - W3D6. Did not pass.",
            "Pull up program - W3D6. Did not pass.",
            "Pull up program - W3D6. Did not pass.",
            "Pull up program - W3D6. Did not pass.",
            "Difficult",
            "Difficult",
            "Machine blocked, a bit low",
            "Lower than usual, felt harder",
            "A little light",
            "OK",
            "Difficult",
            "Difficult",
            "Difficult",
            "Triset with lateral raise and Arnold press\n",
            "Triset with front raise and Arnold press",
            "Triset with front raise and lateral raise",
            "50 pull ups program\n",
            "50 pull ups program\n",
            "50 pull ups program\n",
            "50 pull ups program\n",
            null,
            "100 push ups program",
            "100 push ups program",
            "100 push ups program",
            "150 dips program",
            "150 dips program",
            "150 dips program",
            "150 dips program",
            null,
            null,
            null,
            "Split 30s-30s 9.5km/h-14km/h",
            "Triset with bent-over row and kickbacks",
            "Triset with overhead extension and kickbacks",
            "Triset with overhead extension and beant-over row",
            "Biset with squat",
            "Biset with front raise",
            "Biset with leg curl\n2x6kg",
            "Biset with lateral raise",
            "Biset with leg extension",
            "Biset with upright rows\n",
            null,
            "Biset with roman chair knee raises\nWatched form closely",
            "Biset with deadhang pull up\nNot touching chest yet",
            "Biset with roman chair knee raises\nWatched form closely",
            "Biset with deadhang pull up\nNot touching chest yet",
            "Biset with roman chair knee raises\nWatched form closely",
            "Not much at ease with posture yet",
            "Not much at ease with posture yet",
            "Not much at ease with posture yet",
            "Not much at ease with posture yet",
            "Not much at ease with posture yet",
            "5 minutes at 15km/h (almost fell off the treadmill)\n8 minutes at 12 km/h"
           ]
          ]
         },
         "header": {
          "align": "left",
          "fill": {
           "color": "whitesmoke"
          },
          "values": [
           "Date",
           "Exercise",
           "Tool",
           "Weight (kg)",
           "Series",
           "Reps",
           "Rest",
           "Duration",
           "Order",
           "Notes"
          ]
         },
         "type": "table"
        }
       ],
       "layout": {
        "autosize": true,
        "margin": {
         "b": 0,
         "l": 0,
         "r": 0,
         "t": 0
        },
        "template": {
         "data": {
          "bar": [
           {
            "error_x": {
             "color": "#2a3f5f"
            },
            "error_y": {
             "color": "#2a3f5f"
            },
            "marker": {
             "line": {
              "color": "#E5ECF6",
              "width": 0.5
             },
             "pattern": {
              "fillmode": "overlay",
              "size": 10,
              "solidity": 0.2
             }
            },
            "type": "bar"
           }
          ],
          "barpolar": [
           {
            "marker": {
             "line": {
              "color": "#E5ECF6",
              "width": 0.5
             },
             "pattern": {
              "fillmode": "overlay",
              "size": 10,
              "solidity": 0.2
             }
            },
            "type": "barpolar"
           }
          ],
          "carpet": [
           {
            "aaxis": {
             "endlinecolor": "#2a3f5f",
             "gridcolor": "white",
             "linecolor": "white",
             "minorgridcolor": "white",
             "startlinecolor": "#2a3f5f"
            },
            "baxis": {
             "endlinecolor": "#2a3f5f",
             "gridcolor": "white",
             "linecolor": "white",
             "minorgridcolor": "white",
             "startlinecolor": "#2a3f5f"
            },
            "type": "carpet"
           }
          ],
          "choropleth": [
           {
            "colorbar": {
             "outlinewidth": 0,
             "ticks": ""
            },
            "type": "choropleth"
           }
          ],
          "contour": [
           {
            "colorbar": {
             "outlinewidth": 0,
             "ticks": ""
            },
            "colorscale": [
             [
              0,
              "#0d0887"
             ],
             [
              0.1111111111111111,
              "#46039f"
             ],
             [
              0.2222222222222222,
              "#7201a8"
             ],
             [
              0.3333333333333333,
              "#9c179e"
             ],
             [
              0.4444444444444444,
              "#bd3786"
             ],
             [
              0.5555555555555556,
              "#d8576b"
             ],
             [
              0.6666666666666666,
              "#ed7953"
             ],
             [
              0.7777777777777778,
              "#fb9f3a"
             ],
             [
              0.8888888888888888,
              "#fdca26"
             ],
             [
              1,
              "#f0f921"
             ]
            ],
            "type": "contour"
           }
          ],
          "contourcarpet": [
           {
            "colorbar": {
             "outlinewidth": 0,
             "ticks": ""
            },
            "type": "contourcarpet"
           }
          ],
          "heatmap": [
           {
            "colorbar": {
             "outlinewidth": 0,
             "ticks": ""
            },
            "colorscale": [
             [
              0,
              "#0d0887"
             ],
             [
              0.1111111111111111,
              "#46039f"
             ],
             [
              0.2222222222222222,
              "#7201a8"
             ],
             [
              0.3333333333333333,
              "#9c179e"
             ],
             [
              0.4444444444444444,
              "#bd3786"
             ],
             [
              0.5555555555555556,
              "#d8576b"
             ],
             [
              0.6666666666666666,
              "#ed7953"
             ],
             [
              0.7777777777777778,
              "#fb9f3a"
             ],
             [
              0.8888888888888888,
              "#fdca26"
             ],
             [
              1,
              "#f0f921"
             ]
            ],
            "type": "heatmap"
           }
          ],
          "heatmapgl": [
           {
            "colorbar": {
             "outlinewidth": 0,
             "ticks": ""
            },
            "colorscale": [
             [
              0,
              "#0d0887"
             ],
             [
              0.1111111111111111,
              "#46039f"
             ],
             [
              0.2222222222222222,
              "#7201a8"
             ],
             [
              0.3333333333333333,
              "#9c179e"
             ],
             [
              0.4444444444444444,
              "#bd3786"
             ],
             [
              0.5555555555555556,
              "#d8576b"
             ],
             [
              0.6666666666666666,
              "#ed7953"
             ],
             [
              0.7777777777777778,
              "#fb9f3a"
             ],
             [
              0.8888888888888888,
              "#fdca26"
             ],
             [
              1,
              "#f0f921"
             ]
            ],
            "type": "heatmapgl"
           }
          ],
          "histogram": [
           {
            "marker": {
             "pattern": {
              "fillmode": "overlay",
              "size": 10,
              "solidity": 0.2
             }
            },
            "type": "histogram"
           }
          ],
          "histogram2d": [
           {
            "colorbar": {
             "outlinewidth": 0,
             "ticks": ""
            },
            "colorscale": [
             [
              0,
              "#0d0887"
             ],
             [
              0.1111111111111111,
              "#46039f"
             ],
             [
              0.2222222222222222,
              "#7201a8"
             ],
             [
              0.3333333333333333,
              "#9c179e"
             ],
             [
              0.4444444444444444,
              "#bd3786"
             ],
             [
              0.5555555555555556,
              "#d8576b"
             ],
             [
              0.6666666666666666,
              "#ed7953"
             ],
             [
              0.7777777777777778,
              "#fb9f3a"
             ],
             [
              0.8888888888888888,
              "#fdca26"
             ],
             [
              1,
              "#f0f921"
             ]
            ],
            "type": "histogram2d"
           }
          ],
          "histogram2dcontour": [
           {
            "colorbar": {
             "outlinewidth": 0,
             "ticks": ""
            },
            "colorscale": [
             [
              0,
              "#0d0887"
             ],
             [
              0.1111111111111111,
              "#46039f"
             ],
             [
              0.2222222222222222,
              "#7201a8"
             ],
             [
              0.3333333333333333,
              "#9c179e"
             ],
             [
              0.4444444444444444,
              "#bd3786"
             ],
             [
              0.5555555555555556,
              "#d8576b"
             ],
             [
              0.6666666666666666,
              "#ed7953"
             ],
             [
              0.7777777777777778,
              "#fb9f3a"
             ],
             [
              0.8888888888888888,
              "#fdca26"
             ],
             [
              1,
              "#f0f921"
             ]
            ],
            "type": "histogram2dcontour"
           }
          ],
          "mesh3d": [
           {
            "colorbar": {
             "outlinewidth": 0,
             "ticks": ""
            },
            "type": "mesh3d"
           }
          ],
          "parcoords": [
           {
            "line": {
             "colorbar": {
              "outlinewidth": 0,
              "ticks": ""
             }
            },
            "type": "parcoords"
           }
          ],
          "pie": [
           {
            "automargin": true,
            "type": "pie"
           }
          ],
          "scatter": [
           {
            "fillpattern": {
             "fillmode": "overlay",
             "size": 10,
             "solidity": 0.2
            },
            "type": "scatter"
           }
          ],
          "scatter3d": [
           {
            "line": {
             "colorbar": {
              "outlinewidth": 0,
              "ticks": ""
             }
            },
            "marker": {
             "colorbar": {
              "outlinewidth": 0,
              "ticks": ""
             }
            },
            "type": "scatter3d"
           }
          ],
          "scattercarpet": [
           {
            "marker": {
             "colorbar": {
              "outlinewidth": 0,
              "ticks": ""
             }
            },
            "type": "scattercarpet"
           }
          ],
          "scattergeo": [
           {
            "marker": {
             "colorbar": {
              "outlinewidth": 0,
              "ticks": ""
             }
            },
            "type": "scattergeo"
           }
          ],
          "scattergl": [
           {
            "marker": {
             "colorbar": {
              "outlinewidth": 0,
              "ticks": ""
             }
            },
            "type": "scattergl"
           }
          ],
          "scattermapbox": [
           {
            "marker": {
             "colorbar": {
              "outlinewidth": 0,
              "ticks": ""
             }
            },
            "type": "scattermapbox"
           }
          ],
          "scatterpolar": [
           {
            "marker": {
             "colorbar": {
              "outlinewidth": 0,
              "ticks": ""
             }
            },
            "type": "scatterpolar"
           }
          ],
          "scatterpolargl": [
           {
            "marker": {
             "colorbar": {
              "outlinewidth": 0,
              "ticks": ""
             }
            },
            "type": "scatterpolargl"
           }
          ],
          "scatterternary": [
           {
            "marker": {
             "colorbar": {
              "outlinewidth": 0,
              "ticks": ""
             }
            },
            "type": "scatterternary"
           }
          ],
          "surface": [
           {
            "colorbar": {
             "outlinewidth": 0,
             "ticks": ""
            },
            "colorscale": [
             [
              0,
              "#0d0887"
             ],
             [
              0.1111111111111111,
              "#46039f"
             ],
             [
              0.2222222222222222,
              "#7201a8"
             ],
             [
              0.3333333333333333,
              "#9c179e"
             ],
             [
              0.4444444444444444,
              "#bd3786"
             ],
             [
              0.5555555555555556,
              "#d8576b"
             ],
             [
              0.6666666666666666,
              "#ed7953"
             ],
             [
              0.7777777777777778,
              "#fb9f3a"
             ],
             [
              0.8888888888888888,
              "#fdca26"
             ],
             [
              1,
              "#f0f921"
             ]
            ],
            "type": "surface"
           }
          ],
          "table": [
           {
            "cells": {
             "fill": {
              "color": "#EBF0F8"
             },
             "line": {
              "color": "white"
             }
            },
            "header": {
             "fill": {
              "color": "#C8D4E3"
             },
             "line": {
              "color": "white"
             }
            },
            "type": "table"
           }
          ]
         },
         "layout": {
          "annotationdefaults": {
           "arrowcolor": "#2a3f5f",
           "arrowhead": 0,
           "arrowwidth": 1
          },
          "autotypenumbers": "strict",
          "coloraxis": {
           "colorbar": {
            "outlinewidth": 0,
            "ticks": ""
           }
          },
          "colorscale": {
           "diverging": [
            [
             0,
             "#8e0152"
            ],
            [
             0.1,
             "#c51b7d"
            ],
            [
             0.2,
             "#de77ae"
            ],
            [
             0.3,
             "#f1b6da"
            ],
            [
             0.4,
             "#fde0ef"
            ],
            [
             0.5,
             "#f7f7f7"
            ],
            [
             0.6,
             "#e6f5d0"
            ],
            [
             0.7,
             "#b8e186"
            ],
            [
             0.8,
             "#7fbc41"
            ],
            [
             0.9,
             "#4d9221"
            ],
            [
             1,
             "#276419"
            ]
           ],
           "sequential": [
            [
             0,
             "#0d0887"
            ],
            [
             0.1111111111111111,
             "#46039f"
            ],
            [
             0.2222222222222222,
             "#7201a8"
            ],
            [
             0.3333333333333333,
             "#9c179e"
            ],
            [
             0.4444444444444444,
             "#bd3786"
            ],
            [
             0.5555555555555556,
             "#d8576b"
            ],
            [
             0.6666666666666666,
             "#ed7953"
            ],
            [
             0.7777777777777778,
             "#fb9f3a"
            ],
            [
             0.8888888888888888,
             "#fdca26"
            ],
            [
             1,
             "#f0f921"
            ]
           ],
           "sequentialminus": [
            [
             0,
             "#0d0887"
            ],
            [
             0.1111111111111111,
             "#46039f"
            ],
            [
             0.2222222222222222,
             "#7201a8"
            ],
            [
             0.3333333333333333,
             "#9c179e"
            ],
            [
             0.4444444444444444,
             "#bd3786"
            ],
            [
             0.5555555555555556,
             "#d8576b"
            ],
            [
             0.6666666666666666,
             "#ed7953"
            ],
            [
             0.7777777777777778,
             "#fb9f3a"
            ],
            [
             0.8888888888888888,
             "#fdca26"
            ],
            [
             1,
             "#f0f921"
            ]
           ]
          },
          "colorway": [
           "#636efa",
           "#EF553B",
           "#00cc96",
           "#ab63fa",
           "#FFA15A",
           "#19d3f3",
           "#FF6692",
           "#B6E880",
           "#FF97FF",
           "#FECB52"
          ],
          "font": {
           "color": "#2a3f5f"
          },
          "geo": {
           "bgcolor": "white",
           "lakecolor": "white",
           "landcolor": "#E5ECF6",
           "showlakes": true,
           "showland": true,
           "subunitcolor": "white"
          },
          "hoverlabel": {
           "align": "left"
          },
          "hovermode": "closest",
          "mapbox": {
           "style": "light"
          },
          "paper_bgcolor": "white",
          "plot_bgcolor": "#E5ECF6",
          "polar": {
           "angularaxis": {
            "gridcolor": "white",
            "linecolor": "white",
            "ticks": ""
           },
           "bgcolor": "#E5ECF6",
           "radialaxis": {
            "gridcolor": "white",
            "linecolor": "white",
            "ticks": ""
           }
          },
          "scene": {
           "xaxis": {
            "backgroundcolor": "#E5ECF6",
            "gridcolor": "white",
            "gridwidth": 2,
            "linecolor": "white",
            "showbackground": true,
            "ticks": "",
            "zerolinecolor": "white"
           },
           "yaxis": {
            "backgroundcolor": "#E5ECF6",
            "gridcolor": "white",
            "gridwidth": 2,
            "linecolor": "white",
            "showbackground": true,
            "ticks": "",
            "zerolinecolor": "white"
           },
           "zaxis": {
            "backgroundcolor": "#E5ECF6",
            "gridcolor": "white",
            "gridwidth": 2,
            "linecolor": "white",
            "showbackground": true,
            "ticks": "",
            "zerolinecolor": "white"
           }
          },
          "shapedefaults": {
           "line": {
            "color": "#2a3f5f"
           }
          },
          "ternary": {
           "aaxis": {
            "gridcolor": "white",
            "linecolor": "white",
            "ticks": ""
           },
           "baxis": {
            "gridcolor": "white",
            "linecolor": "white",
            "ticks": ""
           },
           "bgcolor": "#E5ECF6",
           "caxis": {
            "gridcolor": "white",
            "linecolor": "white",
            "ticks": ""
           }
          },
          "title": {
           "x": 0.05
          },
          "xaxis": {
           "automargin": true,
           "gridcolor": "white",
           "linecolor": "white",
           "ticks": "",
           "title": {
            "standoff": 15
           },
           "zerolinecolor": "white",
           "zerolinewidth": 2
          },
          "yaxis": {
           "automargin": true,
           "gridcolor": "white",
           "linecolor": "white",
           "ticks": "",
           "title": {
            "standoff": 15
           },
           "zerolinecolor": "white",
           "zerolinewidth": 2
          }
         }
        }
       }
      },
      "image/png": "[encoded data removed]",
      "text/html": [
       "<div>                            <div id=\"c285415e-0f51-4bec-8709-675f42589154\" class=\"plotly-graph-div\" style=\"height:525px; width:100%;\"></div>            <script type=\"text/javascript\">                require([\"plotly\"], function(Plotly) {                    window.PLOTLYENV=window.PLOTLYENV || {};                                    if (document.getElementById(\"c285415e-0f51-4bec-8709-675f42589154\")) {                    Plotly.newPlot(                        \"c285415e-0f51-4bec-8709-675f42589154\",                        [{\"cells\":{\"align\":\"left\",\"fill\":{\"color\":\"white\"},\"values\":[[\"2022-07-24\",\"2022-07-24\",\"2022-07-24\",\"2022-07-22\",\"2022-07-22\",\"2022-07-22\",\"2022-07-22\",\"2022-07-22\",\"2022-07-22\",\"2022-07-22\",\"2022-07-22\",\"2022-07-22\",\"2022-07-22\",\"2022-07-22\",\"2022-07-22\",\"2022-07-22\",\"2022-07-22\",\"2022-07-21\",\"2022-07-21\",\"2022-07-21\",\"2022-07-20\",\"2022-07-20\",\"2022-07-20\",\"2022-07-20\",\"2022-07-20\",\"2022-07-20\",\"2022-07-20\",\"2022-07-20\",\"2022-07-20\",\"2022-07-20\",\"2022-07-20\",\"2022-07-20\",\"2022-07-20\",\"2022-07-20\",\"2022-07-20\",\"2022-07-20\",\"2022-07-19\",\"2022-07-19\",\"2022-07-19\",\"2022-07-18\",\"2022-07-18\",\"2022-07-18\",\"2022-07-18\",\"2022-07-18\",\"2022-07-18\",\"2022-07-18\",\"2022-07-18\",\"2022-07-18\",\"2022-07-18\",\"2022-07-18\",\"2022-07-18\",\"2022-07-18\",\"2022-07-18\",\"2022-07-18\",\"2022-07-18\",\"2022-07-18\",\"2022-07-18\"],[\"Standing 3x7\",\"Standing twisting curl - alternate\",\"Standing reverse curl - simultaneous\",\"Deadhang pull up - wide grip\",\"Deadhang pull up - wide grip\",\"Deadhang pull up - wide grip\",\"Deadhang pull up - wide grip\",\"Deadhang pull up - wide grip\",\"Lat pulldown\",\"Single arm row\",\"Seated row\",\"Standing twisting curl - simultaneous\",\"Bent-over row - undergrip\",\"Bent-over row - undergrip\",\"Standing 3x7\",\"Standing reverse curl - simultaneous\",\"Standing reverse curl - simultaneous\",\"Front raise\",\"Lateral raise\",\"Arnold press\",\"Deadhang pull up\",\"Deadhang pull up\",\"Deadhang pull up\",\"Deadhang pull up\",\"Chest press\",\"Push up\",\"Push up\",\"Push up\",\"Dip\",\"Dip\",\"Dip\",\"Dip\",\"Cable overhead extension (medium)\",\"Pullover\",\"Skullcrusher\",\"30m\",\"Overhead extension\",\"Bent-over row\",\"Kickbacks\",\"Front raise\",\"Squats\",\"Lateral raise\",\"Leg curl\",\"Upright rows\",\"Leg extension\",\"Arnold press\",\"Deadhang pull up\",\"Roman chair knee raise\",\"Deadhang pull up\",\"Roman chair knee raise\",\"Deadhang pull up\",\"Battle ropes - bilateral waves\",\"Battle ropes - unilateral waves\",\"Battle ropes - slamming waves\",\"Battle ropes - snake waves\",\"Battle ropes - inside waves\",\"3K\"],[\"Dumbbells (2)\",\"Dumbbells (2)\",\"Dumbbells (2)\",\"Bodyweight\",\"Bodyweight\",\"Bodyweight\",\"Bodyweight\",\"Bodyweight\",\"Machine\",\"Dumbbell (1)\",\"Machine\",\"Dumbbells (2)\",\"Dumbbells (2)\",\"Dumbbells (2)\",\"Dumbbells (2)\",\"Dumbbells (2)\",\"Dumbbells (2)\",\"Dumbbells\",\"Dumbbells\",\"Dumbbells\",\"Bodyweight\",\"Bodyweight\",\"Bodyweight\",\"Bodyweight\",\"Dumbbells\",\"Bodyweight\",\"Bodyweight\",\"Bodyweight\",\"Bodyweight\",\"Bodyweight\",\"Bodyweight\",\"Bodyweight\",\"Cable rope\",\"Dumbbell\",\"Kettlebell (1)\",\"None\",\"Dumbbell\",\"Dumbbells\",\"Dumbbells\",\"Sandbag\",\"Sandbag\",\"Kettlebells (2)\",\"Machine\",\"Kettlebells (2)\",\"Machine\",\"Dumbbells (2)\",\"None\",\"Dumbbell (1)\",\"None\",\"Dumbbell (1)\",\"None\",\"Battle ropes (2)\",\"Battle ropes (2)\",\"Battle ropes (2)\",\"Battle ropes (2)\",\"Battle ropes (2)\",\"None\"],[7.0,14.0,7.0,0.0,0.0,0.0,0.0,0.0,40.0,12.5,38.5,10.0,5.0,7.5,7.5,7.5,5.0,7.0,7.0,7.0,0.0,0.0,0.0,0.0,15.0,0.0,0.0,0.0,0.0,0.0,0.0,0.0,15.0,12.5,8.0,0.0,14.0,7.0,4.0,15.0,15.0,6.0,40.0,8.0,40.0,7.5,0.0,5.0,0.0,5.0,0.0,null,null,null,null,null,0.0],[3,3,3,1,1,1,2,2,3,3,3,3,1,2,3,1,2,3,3,3,1,1,2,1,3,2,2,1,1,1,2,1,3,3,3,30,3,3,3,3,3,3,3,3,3,3,2,2,1,1,1,3,3,3,3,1,1],[12,12,12,4,5,4,3,2,12,12,12,12,12,12,21,12,12,12,12,12,3,5,3,5,12,12,7,12,3,4,3,6,12,12,12,0,12,12,12,12,12,12,12,12,12,12,3,12,4,12,3,12,12,12,12,1,1],[45,45,45,2,2,2,2,2,45,45,45,45,45,45,45,45,45,\"1:30\",\"1:30\",\"1:30\",\"2:00\",\"2:00\",\"2:00\",\"2:00\",\"0:45\",\"1:00\",\"1:00\",\"1:00\",\"1:00\",\"1:00\",\"1:00\",\"1:00\",\"0:45\",\"0:45\",\"0:45\",\"0:30\",\"0:45\",\"0:45\",\"0:45\",\"0:45\",\"0:45\",\"0:45\",\"0:45\",\"0:45\",\"0:45\",\"0:45\",\"2:00\",\"2:00\",\"2:00\",\"2:00\",\"2:00\",\"0:30\",\"0:30\",\"0:30\",\"0:30\",\"0:30\",\"0:00\"],[0,0,0,0,0,0,0,0,0,0,0,0,0,0,0,0,0,\"0:00\",\"0:00\",\"0:00\",\"0:00\",\"0:00\",\"0:00\",\"0:00\",\"0:00\",\"0:00\",\"0:00\",\"0:00\",\"0:00\",\"0:00\",\"0:00\",\"0:00\",\"0:00\",\"0:00\",\"0:00\",\"0:30\",0,0,0,\"0\",\"0\",\"0\",\"0\",\"0\",\"0\",\"0\",\"0\",\"0\",\"0\",\"0\",\"0\",\"0\",\"0\",\"0\",\"0\",\"0\",\"13:00\"],[1,2,3,1,2,3,4,5,6,7,8,9,10,11,12,13,14,1,2,3,1,2,3,4,5,6,7,8,9,10,11,12,13,14,15,16,1,2,3,1,2,3,4,5,6,7,8,9,10,11,12,13,14,15,16,17,18],[\"Triset with standing twisting curl - alternate and standing reverse curl - simultaneous\",\"Triset with standing 3x7 and standing reverse curl - simultaneous\\nCheated\",\"Triset with standing 3x7 and standing twisting curl - alternate\",\"Pull up program - W3D6. Did not pass.\",\"Pull up program - W3D6. Did not pass.\",\"Pull up program - W3D6. Did not pass.\",\"Pull up program - W3D6. Did not pass.\",\"Pull up program - W3D6. Did not pass.\",\"Difficult\",\"Difficult\",\"Machine blocked, a bit low\",\"Lower than usual, felt harder\",\"A little light\",\"OK\",\"Difficult\",\"Difficult\",\"Difficult\",\"Triset with lateral raise and Arnold press\\n\",\"Triset with front raise and Arnold press\",\"Triset with front raise and lateral raise\",\"50 pull ups program\\n\",\"50 pull ups program\\n\",\"50 pull ups program\\n\",\"50 pull ups program\\n\",null,\"100 push ups program\",\"100 push ups program\",\"100 push ups program\",\"150 dips program\",\"150 dips program\",\"150 dips program\",\"150 dips program\",null,null,null,\"Split 30s-30s 9.5km/h-14km/h\",\"Triset with bent-over row and kickbacks\",\"Triset with overhead extension and kickbacks\",\"Triset with overhead extension and beant-over row\",\"Biset with squat\",\"Biset with front raise\",\"Biset with leg curl\\n2x6kg\",\"Biset with lateral raise\",\"Biset with leg extension\",\"Biset with upright rows\\n\",null,\"Biset with roman chair knee raises\\nWatched form closely\",\"Biset with deadhang pull up\\nNot touching chest yet\",\"Biset with roman chair knee raises\\nWatched form closely\",\"Biset with deadhang pull up\\nNot touching chest yet\",\"Biset with roman chair knee raises\\nWatched form closely\",\"Not much at ease with posture yet\",\"Not much at ease with posture yet\",\"Not much at ease with posture yet\",\"Not much at ease with posture yet\",\"Not much at ease with posture yet\",\"5 minutes at 15km/h (almost fell off the treadmill)\\n8 minutes at 12 km/h\"]]},\"header\":{\"align\":\"left\",\"fill\":{\"color\":\"whitesmoke\"},\"values\":[\"Date\",\"Exercise\",\"Tool\",\"Weight (kg)\",\"Series\",\"Reps\",\"Rest\",\"Duration\",\"Order\",\"Notes\"]},\"type\":\"table\"}],                        {\"template\":{\"data\":{\"histogram2dcontour\":[{\"type\":\"histogram2dcontour\",\"colorbar\":{\"outlinewidth\":0,\"ticks\":\"\"},\"colorscale\":[[0.0,\"#0d0887\"],[0.1111111111111111,\"#46039f\"],[0.2222222222222222,\"#7201a8\"],[0.3333333333333333,\"#9c179e\"],[0.4444444444444444,\"#bd3786\"],[0.5555555555555556,\"#d8576b\"],[0.6666666666666666,\"#ed7953\"],[0.7777777777777778,\"#fb9f3a\"],[0.8888888888888888,\"#fdca26\"],[1.0,\"#f0f921\"]]}],\"choropleth\":[{\"type\":\"choropleth\",\"colorbar\":{\"outlinewidth\":0,\"ticks\":\"\"}}],\"histogram2d\":[{\"type\":\"histogram2d\",\"colorbar\":{\"outlinewidth\":0,\"ticks\":\"\"},\"colorscale\":[[0.0,\"#0d0887\"],[0.1111111111111111,\"#46039f\"],[0.2222222222222222,\"#7201a8\"],[0.3333333333333333,\"#9c179e\"],[0.4444444444444444,\"#bd3786\"],[0.5555555555555556,\"#d8576b\"],[0.6666666666666666,\"#ed7953\"],[0.7777777777777778,\"#fb9f3a\"],[0.8888888888888888,\"#fdca26\"],[1.0,\"#f0f921\"]]}],\"heatmap\":[{\"type\":\"heatmap\",\"colorbar\":{\"outlinewidth\":0,\"ticks\":\"\"},\"colorscale\":[[0.0,\"#0d0887\"],[0.1111111111111111,\"#46039f\"],[0.2222222222222222,\"#7201a8\"],[0.3333333333333333,\"#9c179e\"],[0.4444444444444444,\"#bd3786\"],[0.5555555555555556,\"#d8576b\"],[0.6666666666666666,\"#ed7953\"],[0.7777777777777778,\"#fb9f3a\"],[0.8888888888888888,\"#fdca26\"],[1.0,\"#f0f921\"]]}],\"heatmapgl\":[{\"type\":\"heatmapgl\",\"colorbar\":{\"outlinewidth\":0,\"ticks\":\"\"},\"colorscale\":[[0.0,\"#0d0887\"],[0.1111111111111111,\"#46039f\"],[0.2222222222222222,\"#7201a8\"],[0.3333333333333333,\"#9c179e\"],[0.4444444444444444,\"#bd3786\"],[0.5555555555555556,\"#d8576b\"],[0.6666666666666666,\"#ed7953\"],[0.7777777777777778,\"#fb9f3a\"],[0.8888888888888888,\"#fdca26\"],[1.0,\"#f0f921\"]]}],\"contourcarpet\":[{\"type\":\"contourcarpet\",\"colorbar\":{\"outlinewidth\":0,\"ticks\":\"\"}}],\"contour\":[{\"type\":\"contour\",\"colorbar\":{\"outlinewidth\":0,\"ticks\":\"\"},\"colorscale\":[[0.0,\"#0d0887\"],[0.1111111111111111,\"#46039f\"],[0.2222222222222222,\"#7201a8\"],[0.3333333333333333,\"#9c179e\"],[0.4444444444444444,\"#bd3786\"],[0.5555555555555556,\"#d8576b\"],[0.6666666666666666,\"#ed7953\"],[0.7777777777777778,\"#fb9f3a\"],[0.8888888888888888,\"#fdca26\"],[1.0,\"#f0f921\"]]}],\"surface\":[{\"type\":\"surface\",\"colorbar\":{\"outlinewidth\":0,\"ticks\":\"\"},\"colorscale\":[[0.0,\"#0d0887\"],[0.1111111111111111,\"#46039f\"],[0.2222222222222222,\"#7201a8\"],[0.3333333333333333,\"#9c179e\"],[0.4444444444444444,\"#bd3786\"],[0.5555555555555556,\"#d8576b\"],[0.6666666666666666,\"#ed7953\"],[0.7777777777777778,\"#fb9f3a\"],[0.8888888888888888,\"#fdca26\"],[1.0,\"#f0f921\"]]}],\"mesh3d\":[{\"type\":\"mesh3d\",\"colorbar\":{\"outlinewidth\":0,\"ticks\":\"\"}}],\"scatter\":[{\"fillpattern\":{\"fillmode\":\"overlay\",\"size\":10,\"solidity\":0.2},\"type\":\"scatter\"}],\"parcoords\":[{\"type\":\"parcoords\",\"line\":{\"colorbar\":{\"outlinewidth\":0,\"ticks\":\"\"}}}],\"scatterpolargl\":[{\"type\":\"scatterpolargl\",\"marker\":{\"colorbar\":{\"outlinewidth\":0,\"ticks\":\"\"}}}],\"bar\":[{\"error_x\":{\"color\":\"#2a3f5f\"},\"error_y\":{\"color\":\"#2a3f5f\"},\"marker\":{\"line\":{\"color\":\"#E5ECF6\",\"width\":0.5},\"pattern\":{\"fillmode\":\"overlay\",\"size\":10,\"solidity\":0.2}},\"type\":\"bar\"}],\"scattergeo\":[{\"type\":\"scattergeo\",\"marker\":{\"colorbar\":{\"outlinewidth\":0,\"ticks\":\"\"}}}],\"scatterpolar\":[{\"type\":\"scatterpolar\",\"marker\":{\"colorbar\":{\"outlinewidth\":0,\"ticks\":\"\"}}}],\"histogram\":[{\"marker\":{\"pattern\":{\"fillmode\":\"overlay\",\"size\":10,\"solidity\":0.2}},\"type\":\"histogram\"}],\"scattergl\":[{\"type\":\"scattergl\",\"marker\":{\"colorbar\":{\"outlinewidth\":0,\"ticks\":\"\"}}}],\"scatter3d\":[{\"type\":\"scatter3d\",\"line\":{\"colorbar\":{\"outlinewidth\":0,\"ticks\":\"\"}},\"marker\":{\"colorbar\":{\"outlinewidth\":0,\"ticks\":\"\"}}}],\"scattermapbox\":[{\"type\":\"scattermapbox\",\"marker\":{\"colorbar\":{\"outlinewidth\":0,\"ticks\":\"\"}}}],\"scatterternary\":[{\"type\":\"scatterternary\",\"marker\":{\"colorbar\":{\"outlinewidth\":0,\"ticks\":\"\"}}}],\"scattercarpet\":[{\"type\":\"scattercarpet\",\"marker\":{\"colorbar\":{\"outlinewidth\":0,\"ticks\":\"\"}}}],\"carpet\":[{\"aaxis\":{\"endlinecolor\":\"#2a3f5f\",\"gridcolor\":\"white\",\"linecolor\":\"white\",\"minorgridcolor\":\"white\",\"startlinecolor\":\"#2a3f5f\"},\"baxis\":{\"endlinecolor\":\"#2a3f5f\",\"gridcolor\":\"white\",\"linecolor\":\"white\",\"minorgridcolor\":\"white\",\"startlinecolor\":\"#2a3f5f\"},\"type\":\"carpet\"}],\"table\":[{\"cells\":{\"fill\":{\"color\":\"#EBF0F8\"},\"line\":{\"color\":\"white\"}},\"header\":{\"fill\":{\"color\":\"#C8D4E3\"},\"line\":{\"color\":\"white\"}},\"type\":\"table\"}],\"barpolar\":[{\"marker\":{\"line\":{\"color\":\"#E5ECF6\",\"width\":0.5},\"pattern\":{\"fillmode\":\"overlay\",\"size\":10,\"solidity\":0.2}},\"type\":\"barpolar\"}],\"pie\":[{\"automargin\":true,\"type\":\"pie\"}]},\"layout\":{\"autotypenumbers\":\"strict\",\"colorway\":[\"#636efa\",\"#EF553B\",\"#00cc96\",\"#ab63fa\",\"#FFA15A\",\"#19d3f3\",\"#FF6692\",\"#B6E880\",\"#FF97FF\",\"#FECB52\"],\"font\":{\"color\":\"#2a3f5f\"},\"hovermode\":\"closest\",\"hoverlabel\":{\"align\":\"left\"},\"paper_bgcolor\":\"white\",\"plot_bgcolor\":\"#E5ECF6\",\"polar\":{\"bgcolor\":\"#E5ECF6\",\"angularaxis\":{\"gridcolor\":\"white\",\"linecolor\":\"white\",\"ticks\":\"\"},\"radialaxis\":{\"gridcolor\":\"white\",\"linecolor\":\"white\",\"ticks\":\"\"}},\"ternary\":{\"bgcolor\":\"#E5ECF6\",\"aaxis\":{\"gridcolor\":\"white\",\"linecolor\":\"white\",\"ticks\":\"\"},\"baxis\":{\"gridcolor\":\"white\",\"linecolor\":\"white\",\"ticks\":\"\"},\"caxis\":{\"gridcolor\":\"white\",\"linecolor\":\"white\",\"ticks\":\"\"}},\"coloraxis\":{\"colorbar\":{\"outlinewidth\":0,\"ticks\":\"\"}},\"colorscale\":{\"sequential\":[[0.0,\"#0d0887\"],[0.1111111111111111,\"#46039f\"],[0.2222222222222222,\"#7201a8\"],[0.3333333333333333,\"#9c179e\"],[0.4444444444444444,\"#bd3786\"],[0.5555555555555556,\"#d8576b\"],[0.6666666666666666,\"#ed7953\"],[0.7777777777777778,\"#fb9f3a\"],[0.8888888888888888,\"#fdca26\"],[1.0,\"#f0f921\"]],\"sequentialminus\":[[0.0,\"#0d0887\"],[0.1111111111111111,\"#46039f\"],[0.2222222222222222,\"#7201a8\"],[0.3333333333333333,\"#9c179e\"],[0.4444444444444444,\"#bd3786\"],[0.5555555555555556,\"#d8576b\"],[0.6666666666666666,\"#ed7953\"],[0.7777777777777778,\"#fb9f3a\"],[0.8888888888888888,\"#fdca26\"],[1.0,\"#f0f921\"]],\"diverging\":[[0,\"#8e0152\"],[0.1,\"#c51b7d\"],[0.2,\"#de77ae\"],[0.3,\"#f1b6da\"],[0.4,\"#fde0ef\"],[0.5,\"#f7f7f7\"],[0.6,\"#e6f5d0\"],[0.7,\"#b8e186\"],[0.8,\"#7fbc41\"],[0.9,\"#4d9221\"],[1,\"#276419\"]]},\"xaxis\":{\"gridcolor\":\"white\",\"linecolor\":\"white\",\"ticks\":\"\",\"title\":{\"standoff\":15},\"zerolinecolor\":\"white\",\"automargin\":true,\"zerolinewidth\":2},\"yaxis\":{\"gridcolor\":\"white\",\"linecolor\":\"white\",\"ticks\":\"\",\"title\":{\"standoff\":15},\"zerolinecolor\":\"white\",\"automargin\":true,\"zerolinewidth\":2},\"scene\":{\"xaxis\":{\"backgroundcolor\":\"#E5ECF6\",\"gridcolor\":\"white\",\"linecolor\":\"white\",\"showbackground\":true,\"ticks\":\"\",\"zerolinecolor\":\"white\",\"gridwidth\":2},\"yaxis\":{\"backgroundcolor\":\"#E5ECF6\",\"gridcolor\":\"white\",\"linecolor\":\"white\",\"showbackground\":true,\"ticks\":\"\",\"zerolinecolor\":\"white\",\"gridwidth\":2},\"zaxis\":{\"backgroundcolor\":\"#E5ECF6\",\"gridcolor\":\"white\",\"linecolor\":\"white\",\"showbackground\":true,\"ticks\":\"\",\"zerolinecolor\":\"white\",\"gridwidth\":2}},\"shapedefaults\":{\"line\":{\"color\":\"#2a3f5f\"}},\"annotationdefaults\":{\"arrowcolor\":\"#2a3f5f\",\"arrowhead\":0,\"arrowwidth\":1},\"geo\":{\"bgcolor\":\"white\",\"landcolor\":\"#E5ECF6\",\"subunitcolor\":\"white\",\"showland\":true,\"showlakes\":true,\"lakecolor\":\"white\"},\"title\":{\"x\":0.05},\"mapbox\":{\"style\":\"light\"}}},\"margin\":{\"l\":0,\"r\":0,\"b\":0,\"t\":0},\"autosize\":true},                        {\"responsive\": true}                    ).then(function(){\n",
       "                            \n",
       "var gd = document.getElementById('c285415e-0f51-4bec-8709-675f42589154');\n",
       "var x = new MutationObserver(function (mutations, observer) {{\n",
       "        var display = window.getComputedStyle(gd).display;\n",
       "        if (!display || display === 'none') {{\n",
       "            console.log([gd, 'removed!']);\n",
       "            Plotly.purge(gd);\n",
       "            observer.disconnect();\n",
       "        }}\n",
       "}});\n",
       "\n",
       "// Listen for the removal of the full notebook cells\n",
       "var notebookContainer = gd.closest('#notebook-container');\n",
       "if (notebookContainer) {{\n",
       "    x.observe(notebookContainer, {childList: true});\n",
       "}}\n",
       "\n",
       "// Listen for the clearing of the current output cell\n",
       "var outputEl = gd.closest('.output');\n",
       "if (outputEl) {{\n",
       "    x.observe(outputEl, {childList: true});\n",
       "}}\n",
       "\n",
       "                        })                };                });            </script>        </div>"
      ]
     },
     "metadata": {},
     "output_type": "display_data"
    }
   ],
   "source": [
    "fig = go.Figure(data=[go.Table(\n",
    "    header=dict(values=df.columns,\n",
    "                fill_color=\"whitesmoke\",\n",
    "                align=\"left\"),\n",
    "    cells=dict(values=[df[col] for col in df.columns],\n",
    "               fill_color=\"white\",\n",
    "               align=\"left\"))\n",
    "])\n",
    "\n",
    "fig.update_layout(custom_layout)\n",
    "\n",
    "fig.show()"
   ]
  },
  {
   "cell_type": "code",
   "execution_count": 20,
   "id": "acef9206-b371-41fd-b697-d3262c9eba86",
   "metadata": {
    "jupyter": {
     "source_hidden": true
    }
   },
   "outputs": [],
   "source": [
    "total_weight = (df[\"Weight (kg)\"] * df[\"Series\"] * df[\"Reps\"]).sum()"
   ]
  },
  {
   "cell_type": "code",
   "execution_count": null,
   "id": "5f9b2c57-2eeb-4601-ac3f-834e4f0ccf9e",
   "metadata": {
    "jupyter": {
     "source_hidden": true
    }
   },
   "outputs": [],
   "source": [
    "total_weight"
   ]
  },
  {
   "cell_type": "code",
   "execution_count": null,
   "id": "fa3f4bff-f711-44ae-aae7-9c26a9a1376d",
   "metadata": {
    "jupyter": {
     "source_hidden": true
    }
   },
   "outputs": [],
   "source": [
    "df.columns"
   ]
  },
  {
   "cell_type": "code",
   "execution_count": null,
   "id": "fd749405-339c-4c87-b00c-8faf9e93882f",
   "metadata": {
    "jupyter": {
     "source_hidden": true
    },
    "tags": []
   },
   "outputs": [],
   "source": []
  }
 ],
 "metadata": {
  "kernelspec": {
   "display_name": "Python 3 (ipykernel)",
   "language": "python",
   "name": "python3"
  },
  "language_info": {
   "codemirror_mode": {
    "name": "ipython",
    "version": 3
   },
   "file_extension": ".py",
   "mimetype": "text/x-python",
   "name": "python",
   "nbconvert_exporter": "python",
   "pygments_lexer": "ipython3",
   "version": "3.8.13"
  }
 },
 "nbformat": 4,
 "nbformat_minor": 5
}
