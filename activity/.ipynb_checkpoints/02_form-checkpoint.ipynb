{
 "cells": [
  {
   "cell_type": "markdown",
   "id": "c577eb2c-a913-488f-9b8a-0161aac979fb",
   "metadata": {},
   "source": [
    "# FORM"
   ]
  },
  {
   "cell_type": "code",
   "execution_count": 9,
   "id": "ee88a296-070c-4c89-bf54-49afc416fe35",
   "metadata": {
    "tags": []
   },
   "outputs": [],
   "source": [
    "import datetime\n",
    "import ipywidgets as widgets\n",
    "import numpy as np\n",
    "import pandas as pd\n",
    "import plotly.graph_objects as go\n",
    "\n",
    "from IPython.display import clear_output\n",
    "from traitlets import traitlets"
   ]
  },
  {
   "cell_type": "code",
   "execution_count": 10,
   "id": "8e5b98a0-8ab7-4066-98f8-e6dc059457b1",
   "metadata": {
    "tags": []
   },
   "outputs": [
    {
     "data": {
      "text/html": [
       "<style>\n",
       "    .widget-label { min-width: 30ex !important; }\n",
       "</style>"
      ],
      "text/plain": [
       "<IPython.core.display.HTML object>"
      ]
     },
     "metadata": {},
     "output_type": "display_data"
    }
   ],
   "source": [
    "from IPython.display import HTML, display\n",
    "\n",
    "display(HTML(\"\"\"<style>\n",
    "    .widget-label { min-width: 30ex !important; }\n",
    "</style>\"\"\"))\n",
    "\n",
    "pd.set_option('expand_frame_repr', False)"
   ]
  },
  {
   "cell_type": "code",
   "execution_count": 11,
   "id": "dab8a239-20d3-4e2e-a6bd-134fb1d1c8f3",
   "metadata": {
    "jupyter": {
     "source_hidden": true
    },
    "tags": []
   },
   "outputs": [],
   "source": [
    "class LoadedButton(widgets.Button):\n",
    "    \"\"\"A button that can holds a value as a attribute.\"\"\"\n",
    "\n",
    "    def __init__(self, value=None, *args, **kwargs):\n",
    "        super(LoadedButton, self).__init__(*args, **kwargs)\n",
    "        # Create the value attribute.\n",
    "        self.add_traits(value=traitlets.Any(value))"
   ]
  },
  {
   "cell_type": "markdown",
   "id": "299b52d0-ad3b-4f8f-aa3d-cec0553eb377",
   "metadata": {},
   "source": [
    "## Examples"
   ]
  },
  {
   "cell_type": "markdown",
   "id": "411e1e44-27b2-434a-a637-0b3f752a766b",
   "metadata": {},
   "source": [
    "### Initiate empty workout DataFrame"
   ]
  },
  {
   "cell_type": "code",
   "execution_count": 12,
   "id": "a752fe3a-6d69-4924-8067-92dd97f68d24",
   "metadata": {
    "jupyter": {
     "source_hidden": true
    },
    "tags": []
   },
   "outputs": [],
   "source": [
    "columns = [\"Date\", \"Exercise\", \"Tool\", \"Weight (kg)\", \"Series\", \"Reps\", \"Rest\", \"Duration\", \"Order\", \"Notes\"]\n",
    "workout = pd.DataFrame(columns=columns)"
   ]
  },
  {
   "cell_type": "markdown",
   "id": "352605ed-5698-40a9-9233-5cab1ed9e063",
   "metadata": {},
   "source": [
    "### Get necessary data"
   ]
  },
  {
   "cell_type": "code",
   "execution_count": 15,
   "id": "95ba8fc1-9c9e-4b19-ba81-1db7d2112085",
   "metadata": {
    "jupyter": {
     "source_hidden": true
    },
    "tags": []
   },
   "outputs": [],
   "source": [
    "df = pd.read_csv(\"./data/raw/workouts/exercises/exercises.csv\", header=0)\n",
    "df = df[[\"Exercise\", \"Group\", \"Tool\"]].sort_values(by=[\"Group\", \"Exercise\", \"Tool\"])"
   ]
  },
  {
   "cell_type": "markdown",
   "id": "db7252fc-b689-42a5-b8ac-5f1c71d360ef",
   "metadata": {
    "tags": []
   },
   "source": [
    "### Build form"
   ]
  },
  {
   "cell_type": "code",
   "execution_count": 53,
   "id": "399bdaca-778f-4d07-ba99-c3e307fd389d",
   "metadata": {
    "tags": []
   },
   "outputs": [
    {
     "data": {
      "application/vnd.jupyter.widget-view+json": {
       "model_id": "f220097f876a4f54963b198e25b20bb1",
       "version_major": 2,
       "version_minor": 0
      },
      "text/plain": [
       "interactive(children=(DatePicker(value=datetime.datetime(2022, 7, 22, 14, 23, 26, 811850), description='Date:'…"
      ]
     },
     "metadata": {},
     "output_type": "display_data"
    },
    {
     "data": {
      "application/vnd.jupyter.widget-view+json": {
       "model_id": "a2ea25867c71451b8b5b9bcd9b0cd235",
       "version_major": 2,
       "version_minor": 0
      },
      "text/plain": [
       "LoadedButton(description='Save exercise', layout=Layout(height='auto', width='95%'), style=ButtonStyle(), tool…"
      ]
     },
     "metadata": {},
     "output_type": "display_data"
    },
    {
     "data": {
      "application/vnd.jupyter.widget-view+json": {
       "model_id": "ccde114fbf2a47dbbcb56618c5c801ee",
       "version_major": 2,
       "version_minor": 0
      },
      "text/plain": [
       "LoadedButton(description='Remove last row', layout=Layout(height='auto', width='95%'), style=ButtonStyle(), to…"
      ]
     },
     "metadata": {},
     "output_type": "display_data"
    },
    {
     "data": {
      "application/vnd.jupyter.widget-view+json": {
       "model_id": "1ee83f1ec0b0443481ec16d170bbf026",
       "version_major": 2,
       "version_minor": 0
      },
      "text/plain": [
       "Output(layout=Layout(height='auto', width='95%'))"
      ]
     },
     "metadata": {},
     "output_type": "display_data"
    }
   ],
   "source": [
    "exercises_by_groups = df.groupby(\"Group\")[\"Exercise\"].apply(list).to_dict()\n",
    "tools_by_exercises = df.groupby(\"Exercise\")[\"Tool\"].apply(list).to_dict()\n",
    "\n",
    "layout = widgets.Layout(width=\"95%\",\n",
    "                        height=\"auto\",\n",
    "                        #border=\"1px solid black\"\n",
    "                        #margin=\"0px 0px 0px 0px\", # top, right, bottom, left\n",
    "                        #padding=\"0px 0px 0px 0px\"\n",
    "                       )\n",
    "\n",
    "date_field = widgets.DatePicker(value=datetime.datetime.now(),\n",
    "                                description=\"Date:\",\n",
    "                                placeholder=\"Enter date (YYYYMMDD)\",\n",
    "                                layout=layout\n",
    "                               )\n",
    "\n",
    "groups_select = widgets.Select(value=\"Back\",\n",
    "                               description=\"Group worked:\",\n",
    "                               options=exercises_by_groups.keys(),\n",
    "                               layout=layout\n",
    "                              )\n",
    "\n",
    "exercises_select = widgets.Select(description=\"Exercise:\",\n",
    "                                  layout=layout\n",
    "                                 )\n",
    "\n",
    "tools_select = widgets.Select(description=\"Tool:\",\n",
    "                              layout=layout\n",
    "                             )\n",
    "\n",
    "series_slider = widgets.IntSlider(value=3,\n",
    "                                  min=1,\n",
    "                                  max=50,\n",
    "                                  step=1,\n",
    "                                  description=\"# of series: (if going for count)\",\n",
    "                                  #disabled=False,\n",
    "                                  #continuous_update=False,\n",
    "                                  orientation=\"horizontal\",\n",
    "                                  readout=True,\n",
    "                                  readout_format=\"d\",\n",
    "                                  layout=layout\n",
    "                                 )\n",
    "\n",
    "reps_field = widgets.IntText(value=12,\n",
    "                             step=1,\n",
    "                             description=\"Reps:\",\n",
    "                             layout=layout\n",
    "                            )\n",
    "\n",
    "\n",
    "weights_field = widgets.FloatText(value=12.5,\n",
    "                                  step=0.5,\n",
    "                                  description=\"Weight (kg):\",\n",
    "                                  layout=layout\n",
    "                                 )\n",
    "\n",
    "rest_field = widgets.IntText(value=45,\n",
    "                             description=\"Resting time (s):\",\n",
    "                             layout=layout\n",
    "                            )\n",
    "\n",
    "duration_field = widgets.IntText(value=45,\n",
    "                                 description=\"Did each round for (if going for time):\",\n",
    "                                 layout=layout\n",
    "                                )\n",
    "\n",
    "duration_select = widgets.Select(options=[\"seconds\", \"minutes\"],\n",
    "                                 description=\"Duration unit:\",\n",
    "                                 layout=layout\n",
    "                                )\n",
    "\n",
    "notes_field = widgets.Textarea(value=\"\",\n",
    "                               placeholder=\"Optional comments on the exercise\",\n",
    "                               description=\"Notes:\",\n",
    "                               layout=layout\n",
    "                              )\n",
    "\n",
    "#def add_row():\n",
    "#    if duration_field.value == \"minutes\":\n",
    "#        duration_seconds = duration_field.value * 60\n",
    "#    else:\n",
    "#        duration_seconds = duration_field.value\n",
    "#    \n",
    "#    row = {\"Date\": [date_field.value],\n",
    "#           \"Exercise\": [exercises_select.value],\n",
    "#           \"Tool\": [tools_select.value],\n",
    "#           \"Weight (kg)\": [weights_field.value],\n",
    "#           \"Series\": [series_slider.value],\n",
    "#           \"Reps\": [reps_field.value],\n",
    "#           \"Rest\": [rest_field.value],\n",
    "#           \"Duration\": [duration_seconds],\n",
    "#           \"Order\": [np.nan],\n",
    "#           \"Notes\": [notes_field.value]\n",
    "#          }\n",
    "#\n",
    "#    row = pd.DataFrame.from_dict(row)\n",
    "#    workout = pd.concat(objs=[workout, row])\n",
    "#    print(\"Added row:\")\n",
    "#    print(workout.head())\n",
    "#    \n",
    "#button_save = widgets.Button(description=\"Add row\")\n",
    "#\n",
    "#button_save.on_click(add_row)\n",
    "#\n",
    "def update_options(*args): # *args represent zero (case here) or more arguments.\n",
    "    exercises_select.options = exercises_by_groups[groups_select.value]\n",
    "    def update_tool(*args):\n",
    "        tools_select.options = tools_by_exercises[exercises_select.value]\n",
    "    exercises_select.observe(update_tool)\n",
    "    #tools_select.options = tools_by_exercises[exercises_select.value]\n",
    "\n",
    "groups_select.observe(update_options) # Here is the trick, i.e. update exercises.options based on groups.value\n",
    "\n",
    "#---\n",
    "@widgets.interact(date = date_field,\n",
    "                  group = groups_select,\n",
    "                  exercise = exercises_select,\n",
    "                  tool = tools_select,\n",
    "                  series_count = series_slider,\n",
    "                  reps = reps_field,\n",
    "                  weight = weights_field,\n",
    "                  rest = rest_field,\n",
    "                  duration = duration_field,\n",
    "                  duration_unit = duration_select,\n",
    "                  notes = notes_field\n",
    "                 )\n",
    "def print_options(date, group, exercise, tool, series_count, reps, weight, rest, duration, duration_unit, notes):\n",
    "    print(f\"\\nLogging workout for {date.strftime('%Y-%m-%d')}:\\n{exercise} - {tool}: {series_count} series x {reps} repetitions x {weight}kg with {rest}s of rest.\\nNotes: {notes}\")\n",
    "    \n",
    "button_save = LoadedButton(description='Save exercise',\n",
    "                           tooltip='Click here to save the current results as a row in your exercise logs.',\n",
    "                           layout=layout\n",
    "                          )\n",
    "\n",
    "button_remove = LoadedButton(description='Remove last row',\n",
    "                             tooltip='Click here to remove the last row that was added.',\n",
    "                             layout=layout\n",
    "                          )\n",
    "\n",
    "#default_exercise = df[df[\"Group\"]==groups_select.value][\"Exercise\"].unique()[0]\n",
    "#exercises_select.value = default_exercise\n",
    "#default_tool = df[(df[\"Group\"]==groups_select.value) and (df[\"Exercise\"]==exercises_select.value)][\"Exercise\"].unique()[0]\n",
    "#tools_select.value = default_tool\n",
    "\n",
    "output = widgets.Output(value=workout,\n",
    "                        button_style=\"success\",\n",
    "                        layout=layout\n",
    "                       )\n",
    "\n",
    "display(button_save, button_remove, output)\n",
    "\n",
    "def on_save_button_clicked(*args):\n",
    "    with output:\n",
    "        clear_output()\n",
    "        if duration_select.value == \"minutes\":\n",
    "            duration_seconds = duration_field.value * 60\n",
    "            rest_seconds = rest_field.value * 60\n",
    "        else:\n",
    "            duration_seconds = duration_field.value\n",
    "            rest_seconds = rest_field.value\n",
    "        print(rest_seconds)\n",
    "        row = {\"Date\": [date_field.value.strftime(\"%Y-%m-%d\")],\n",
    "               \"Exercise\": [exercises_select.value],\n",
    "               \"Tool\": [tools_select.value],\n",
    "               \"Weight (kg)\": [weights_field.value],\n",
    "               \"Series\": [series_slider.value],\n",
    "               \"Reps\": [reps_field.value],\n",
    "               \"Rest\": [rest_field.value],\n",
    "               \"Duration\": [duration_seconds],\n",
    "               \"Order\": [np.nan],\n",
    "               \"Notes\": [notes_field.value]\n",
    "              }\n",
    "    \n",
    "        row = pd.DataFrame.from_dict(row)\n",
    "        global workout\n",
    "        workout = pd.concat(objs=[args[0], row]).reset_index(drop=True)\n",
    "        output.value = workout\n",
    "        row_title = \"Added row:\"\n",
    "        print(f\"{'_'*len(row_title)}\\n{row_title}\")\n",
    "        print(row.head())\n",
    "        workout_title = \"New log state\"\n",
    "        print(f\"{'_'*len(workout_title)}\\n{workout_title}\")\n",
    "        print(workout)\n",
    "        \n",
    "def on_remove_button_clicked(*args):\n",
    "    with output:\n",
    "        clear_output()\n",
    "        global workout\n",
    "        row = workout.tail(1)\n",
    "        workout = workout.drop(workout.tail(1).index).reset_index(drop=True)\n",
    "        output.value = workout\n",
    "        row_title = \"Removed row:\"\n",
    "        print(f\"{'_'*len(row_title)}\\n{row_title}\")\n",
    "        print(row.head())\n",
    "        workout_title = \"New log state\"\n",
    "        print(f\"{'_'*len(workout_title)}\\n{workout_title}\")\n",
    "        print(workout)\n",
    "    \n",
    "button_save.on_click(lambda x: on_save_button_clicked(workout))\n",
    "button_remove.on_click(lambda x: on_remove_button_clicked(workout))"
   ]
  },
  {
   "cell_type": "markdown",
   "id": "0b84b3c1-54ca-403d-ba1e-6f69a99602a9",
   "metadata": {
    "tags": []
   },
   "source": [
    "___"
   ]
  },
  {
   "cell_type": "markdown",
   "id": "70b7b025-7adc-4916-9428-a26c0d14dc2a",
   "metadata": {},
   "source": [
    "### Add order column and check output"
   ]
  },
  {
   "cell_type": "code",
   "execution_count": null,
   "id": "2c3733b8-7c8a-4302-8d18-901ff0e782c4",
   "metadata": {
    "jupyter": {
     "source_hidden": true
    },
    "tags": []
   },
   "outputs": [],
   "source": [
    "custom_layout = {\"autosize\": True,\n",
    "                 #width=1000,\n",
    "                 #height=500,\n",
    "                 \"margin\": {\n",
    "                   \"l\": 0,\n",
    "                   \"r\": 0,\n",
    "                   \"b\": 0,\n",
    "                   \"t\": 0,\n",
    "                  }\n",
    "                  #paper_bgcolor=\"lightseagreen\",}\n",
    "                }\n",
    "\n",
    "workout[\"Order\"] = [i for i in range(1, len(workout)+1)]\n",
    "\n",
    "fig = go.Figure(data=[go.Table(\n",
    "    header=dict(values=workout.columns,\n",
    "                fill_color=\"whitesmoke\",\n",
    "                align=\"left\"),\n",
    "    cells=dict(values=[workout[col] for col in workout.columns],\n",
    "               fill_color=\"white\",\n",
    "               align=\"left\"))\n",
    "])\n",
    "\n",
    "fig.update_layout(custom_layout)\n",
    "\n",
    "fig.show()"
   ]
  },
  {
   "cell_type": "markdown",
   "id": "e9e30015-0cfb-4ee9-a976-9a234eebca39",
   "metadata": {},
   "source": [
    "### Save log"
   ]
  },
  {
   "cell_type": "code",
   "execution_count": null,
   "id": "3d25c512-8692-4d30-a0e1-a1b0d59fa765",
   "metadata": {
    "jupyter": {
     "source_hidden": true
    },
    "tags": []
   },
   "outputs": [],
   "source": [
    "workout.to_csv(f\"./data/raw/workouts/logs/test_{date_field.value.strftime(\"%Y%m%d\")}.csv\", index=False)"
   ]
  }
 ],
 "metadata": {
  "kernelspec": {
   "display_name": "Python 3 (ipykernel)",
   "language": "python",
   "name": "python3"
  },
  "language_info": {
   "codemirror_mode": {
    "name": "ipython",
    "version": 3
   },
   "file_extension": ".py",
   "mimetype": "text/x-python",
   "name": "python",
   "nbconvert_exporter": "python",
   "pygments_lexer": "ipython3",
   "version": "3.8.13"
  }
 },
 "nbformat": 4,
 "nbformat_minor": 5
}
